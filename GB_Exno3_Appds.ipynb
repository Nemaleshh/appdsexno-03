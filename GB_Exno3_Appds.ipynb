{
  "cells": [
    {
      "cell_type": "code",
      "execution_count": 50,
      "metadata": {
        "id": "_Kmy6n-gv94a"
      },
      "outputs": [],
      "source": [
        "import pandas as pd\n",
        "import numpy as np"
      ]
    },
    {
      "cell_type": "code",
      "execution_count": 51,
      "metadata": {
        "id": "M3KZ_n0PwSS_"
      },
      "outputs": [
        {
          "name": "stdout",
          "output_type": "stream",
          "text": [
            "Requirement already satisfied: pandas in c:\\users\\nemaleshwar h\\appdata\\local\\programs\\python\\python311\\lib\\site-packages (2.2.1)\n",
            "Requirement already satisfied: numpy in c:\\users\\nemaleshwar h\\appdata\\local\\programs\\python\\python311\\lib\\site-packages (1.26.4)\n",
            "Requirement already satisfied: scikit-learn in c:\\users\\nemaleshwar h\\appdata\\local\\programs\\python\\python311\\lib\\site-packages (1.4.1.post1)\n",
            "Requirement already satisfied: fuzzywuzzy in c:\\users\\nemaleshwar h\\appdata\\local\\programs\\python\\python311\\lib\\site-packages (0.18.0)\n",
            "Requirement already satisfied: python-Levenshtein in c:\\users\\nemaleshwar h\\appdata\\local\\programs\\python\\python311\\lib\\site-packages (0.26.0)\n",
            "Requirement already satisfied: python-dateutil>=2.8.2 in c:\\users\\nemaleshwar h\\appdata\\local\\programs\\python\\python311\\lib\\site-packages (from pandas) (2.9.0.post0)\n",
            "Requirement already satisfied: pytz>=2020.1 in c:\\users\\nemaleshwar h\\appdata\\local\\programs\\python\\python311\\lib\\site-packages (from pandas) (2024.1)\n",
            "Requirement already satisfied: tzdata>=2022.7 in c:\\users\\nemaleshwar h\\appdata\\local\\programs\\python\\python311\\lib\\site-packages (from pandas) (2024.1)\n",
            "Requirement already satisfied: scipy>=1.6.0 in c:\\users\\nemaleshwar h\\appdata\\local\\programs\\python\\python311\\lib\\site-packages (from scikit-learn) (1.12.0)\n",
            "Requirement already satisfied: joblib>=1.2.0 in c:\\users\\nemaleshwar h\\appdata\\local\\programs\\python\\python311\\lib\\site-packages (from scikit-learn) (1.3.2)\n",
            "Requirement already satisfied: threadpoolctl>=2.0.0 in c:\\users\\nemaleshwar h\\appdata\\local\\programs\\python\\python311\\lib\\site-packages (from scikit-learn) (3.4.0)\n",
            "Requirement already satisfied: Levenshtein==0.26.0 in c:\\users\\nemaleshwar h\\appdata\\local\\programs\\python\\python311\\lib\\site-packages (from python-Levenshtein) (0.26.0)\n",
            "Requirement already satisfied: rapidfuzz<4.0.0,>=3.9.0 in c:\\users\\nemaleshwar h\\appdata\\local\\programs\\python\\python311\\lib\\site-packages (from Levenshtein==0.26.0->python-Levenshtein) (3.10.0)\n",
            "Requirement already satisfied: six>=1.5 in c:\\users\\nemaleshwar h\\appdata\\local\\programs\\python\\python311\\lib\\site-packages (from python-dateutil>=2.8.2->pandas) (1.16.0)\n",
            "Note: you may need to restart the kernel to use updated packages.\n"
          ]
        }
      ],
      "source": [
        "pip install pandas numpy scikit-learn fuzzywuzzy python-Levenshtein"
      ]
    },
    {
      "cell_type": "code",
      "execution_count": 52,
      "metadata": {
        "id": "N39c_rybwOfh"
      },
      "outputs": [],
      "source": [
        "from fuzzywuzzy import process\n",
        "from sklearn.preprocessing import MinMaxScaler"
      ]
    },
    {
      "cell_type": "code",
      "execution_count": 53,
      "metadata": {
        "id": "4bimnd_vwkTL"
      },
      "outputs": [],
      "source": [
        "df = pd.read_csv('emobile.csv')"
      ]
    },
    {
      "cell_type": "code",
      "execution_count": 54,
      "metadata": {
        "id": "y3ZN9_xXxCia"
      },
      "outputs": [
        {
          "data": {
            "text/html": [
              "<div>\n",
              "<style scoped>\n",
              "    .dataframe tbody tr th:only-of-type {\n",
              "        vertical-align: middle;\n",
              "    }\n",
              "\n",
              "    .dataframe tbody tr th {\n",
              "        vertical-align: top;\n",
              "    }\n",
              "\n",
              "    .dataframe thead th {\n",
              "        text-align: right;\n",
              "    }\n",
              "</style>\n",
              "<table border=\"1\" class=\"dataframe\">\n",
              "  <thead>\n",
              "    <tr style=\"text-align: right;\">\n",
              "      <th></th>\n",
              "      <th>pid</th>\n",
              "      <th>pname</th>\n",
              "      <th>pratings</th>\n",
              "      <th>nop</th>\n",
              "    </tr>\n",
              "  </thead>\n",
              "  <tbody>\n",
              "    <tr>\n",
              "      <th>0</th>\n",
              "      <td>p1254</td>\n",
              "      <td>samsung mobile-g56</td>\n",
              "      <td>8.3</td>\n",
              "      <td>1214</td>\n",
              "    </tr>\n",
              "    <tr>\n",
              "      <th>1</th>\n",
              "      <td>p1682</td>\n",
              "      <td>samsung mobile-f56</td>\n",
              "      <td>6.2</td>\n",
              "      <td>821</td>\n",
              "    </tr>\n",
              "    <tr>\n",
              "      <th>2</th>\n",
              "      <td>p1852</td>\n",
              "      <td>vivo-1213</td>\n",
              "      <td>4.2</td>\n",
              "      <td>501</td>\n",
              "    </tr>\n",
              "    <tr>\n",
              "      <th>3</th>\n",
              "      <td>p1987</td>\n",
              "      <td>samsung mobile-h56</td>\n",
              "      <td>5.4</td>\n",
              "      <td>623</td>\n",
              "    </tr>\n",
              "    <tr>\n",
              "      <th>4</th>\n",
              "      <td>p1365</td>\n",
              "      <td>vivo-v1-pro</td>\n",
              "      <td>8.3</td>\n",
              "      <td>1211</td>\n",
              "    </tr>\n",
              "  </tbody>\n",
              "</table>\n",
              "</div>"
            ],
            "text/plain": [
              "     pid               pname  pratings   nop\n",
              "0  p1254  samsung mobile-g56       8.3  1214\n",
              "1  p1682  samsung mobile-f56       6.2   821\n",
              "2  p1852           vivo-1213       4.2   501\n",
              "3  p1987  samsung mobile-h56       5.4   623\n",
              "4  p1365         vivo-v1-pro       8.3  1211"
            ]
          },
          "execution_count": 54,
          "metadata": {},
          "output_type": "execute_result"
        }
      ],
      "source": [
        "df.head()"
      ]
    },
    {
      "cell_type": "code",
      "execution_count": 55,
      "metadata": {
        "id": "kjaqf1oSxG-q"
      },
      "outputs": [],
      "source": [
        "dx = pd.read_csv('maxmobile.csv')"
      ]
    },
    {
      "cell_type": "code",
      "execution_count": 56,
      "metadata": {
        "id": "LdAUN0X5yIs_"
      },
      "outputs": [],
      "source": [
        "# REMOVE THE DUPLICATES DATA OF df & dx\n",
        "dx.drop_duplicates(inplace=True)\n",
        "df.drop_duplicates(inplace=True)"
      ]
    },
    {
      "cell_type": "code",
      "execution_count": 57,
      "metadata": {
        "id": "eaqgASZnxPVw"
      },
      "outputs": [],
      "source": [
        "df.columns =['Product_id','Product_Name','Rating','Review_Count_ds1']\n",
        "dx.columns=['Product_id','Product_Name','Rating','Reivew_Count_ds2']"
      ]
    },
    {
      "cell_type": "code",
      "execution_count": 58,
      "metadata": {
        "id": "dUyuFJ8nxTuW"
      },
      "outputs": [],
      "source": [
        "def match_products(name,choices,limit=1):\n",
        "    results = process.extract(name,choices,limit=limit)\n",
        "    return results[0][0] if results else None"
      ]
    },
    {
      "cell_type": "code",
      "execution_count": 59,
      "metadata": {
        "id": "nGVqMtuEySsB"
      },
      "outputs": [],
      "source": [
        "dx['Match_Product']= dx['Product_Name'].apply(lambda x:match_products(x,df['Product_Name'].tolist()))"
      ]
    },
    {
      "cell_type": "code",
      "execution_count": 60,
      "metadata": {
        "id": "OgMIzdeRzBFm"
      },
      "outputs": [],
      "source": [
        "merged_df = pd.merge(df,dx,left_on='Product_Name',right_on='Match_Product',how='inner',suffixes=('_ds1','_ds2'))"
      ]
    },
    {
      "cell_type": "code",
      "execution_count": 61,
      "metadata": {
        "id": "tnnIgaWVzDQZ"
      },
      "outputs": [
        {
          "data": {
            "text/html": [
              "<div>\n",
              "<style scoped>\n",
              "    .dataframe tbody tr th:only-of-type {\n",
              "        vertical-align: middle;\n",
              "    }\n",
              "\n",
              "    .dataframe tbody tr th {\n",
              "        vertical-align: top;\n",
              "    }\n",
              "\n",
              "    .dataframe thead th {\n",
              "        text-align: right;\n",
              "    }\n",
              "</style>\n",
              "<table border=\"1\" class=\"dataframe\">\n",
              "  <thead>\n",
              "    <tr style=\"text-align: right;\">\n",
              "      <th></th>\n",
              "      <th>Product_id_ds1</th>\n",
              "      <th>Product_Name_ds1</th>\n",
              "      <th>Rating_ds1</th>\n",
              "      <th>Review_Count_ds1</th>\n",
              "      <th>Product_id_ds2</th>\n",
              "      <th>Product_Name_ds2</th>\n",
              "      <th>Rating_ds2</th>\n",
              "      <th>Reivew_Count_ds2</th>\n",
              "      <th>Match_Product</th>\n",
              "    </tr>\n",
              "  </thead>\n",
              "  <tbody>\n",
              "    <tr>\n",
              "      <th>0</th>\n",
              "      <td>p1254</td>\n",
              "      <td>samsung mobile-g56</td>\n",
              "      <td>8.3</td>\n",
              "      <td>1214</td>\n",
              "      <td>mp1254</td>\n",
              "      <td>samsung mobile-j56</td>\n",
              "      <td>7.3</td>\n",
              "      <td>1114</td>\n",
              "      <td>samsung mobile-g56</td>\n",
              "    </tr>\n",
              "    <tr>\n",
              "      <th>1</th>\n",
              "      <td>p1254</td>\n",
              "      <td>samsung mobile-g56</td>\n",
              "      <td>8.3</td>\n",
              "      <td>1214</td>\n",
              "      <td>mp1682</td>\n",
              "      <td>samsung mobile-v56</td>\n",
              "      <td>5.2</td>\n",
              "      <td>721</td>\n",
              "      <td>samsung mobile-g56</td>\n",
              "    </tr>\n",
              "    <tr>\n",
              "      <th>2</th>\n",
              "      <td>p1852</td>\n",
              "      <td>vivo-1213</td>\n",
              "      <td>4.2</td>\n",
              "      <td>501</td>\n",
              "      <td>mp1852</td>\n",
              "      <td>vivo-1213</td>\n",
              "      <td>3.2</td>\n",
              "      <td>401</td>\n",
              "      <td>vivo-1213</td>\n",
              "    </tr>\n",
              "    <tr>\n",
              "      <th>3</th>\n",
              "      <td>p1987</td>\n",
              "      <td>samsung mobile-h56</td>\n",
              "      <td>5.4</td>\n",
              "      <td>623</td>\n",
              "      <td>mp1987</td>\n",
              "      <td>samsung mobile-h56</td>\n",
              "      <td>4.4</td>\n",
              "      <td>523</td>\n",
              "      <td>samsung mobile-h56</td>\n",
              "    </tr>\n",
              "    <tr>\n",
              "      <th>4</th>\n",
              "      <td>p1365</td>\n",
              "      <td>vivo-v1-pro</td>\n",
              "      <td>8.3</td>\n",
              "      <td>1211</td>\n",
              "      <td>mp1365</td>\n",
              "      <td>vivo-v1-pro</td>\n",
              "      <td>7.3</td>\n",
              "      <td>1111</td>\n",
              "      <td>vivo-v1-pro</td>\n",
              "    </tr>\n",
              "    <tr>\n",
              "      <th>5</th>\n",
              "      <td>p2575</td>\n",
              "      <td>nokia1100</td>\n",
              "      <td>8.4</td>\n",
              "      <td>1235</td>\n",
              "      <td>mp2575</td>\n",
              "      <td>nokia1100</td>\n",
              "      <td>7.4</td>\n",
              "      <td>1135</td>\n",
              "      <td>nokia1100</td>\n",
              "    </tr>\n",
              "    <tr>\n",
              "      <th>6</th>\n",
              "      <td>p1152</td>\n",
              "      <td>samsung mobile-a5</td>\n",
              "      <td>7.5</td>\n",
              "      <td>1101</td>\n",
              "      <td>mp1152</td>\n",
              "      <td>samsung mobile-b5</td>\n",
              "      <td>6.5</td>\n",
              "      <td>1001</td>\n",
              "      <td>samsung mobile-a5</td>\n",
              "    </tr>\n",
              "    <tr>\n",
              "      <th>7</th>\n",
              "      <td>p6314</td>\n",
              "      <td>vivo-z1-pro</td>\n",
              "      <td>8.9</td>\n",
              "      <td>2010</td>\n",
              "      <td>mp6314</td>\n",
              "      <td>vivo-z1-pro</td>\n",
              "      <td>7.9</td>\n",
              "      <td>1910</td>\n",
              "      <td>vivo-z1-pro</td>\n",
              "    </tr>\n",
              "    <tr>\n",
              "      <th>8</th>\n",
              "      <td>p4251</td>\n",
              "      <td>lg-pro-max</td>\n",
              "      <td>6.2</td>\n",
              "      <td>965</td>\n",
              "      <td>mp4251</td>\n",
              "      <td>lg-max-pro</td>\n",
              "      <td>5.2</td>\n",
              "      <td>865</td>\n",
              "      <td>lg-pro-max</td>\n",
              "    </tr>\n",
              "    <tr>\n",
              "      <th>9</th>\n",
              "      <td>p9851</td>\n",
              "      <td>one plus 2</td>\n",
              "      <td>8.6</td>\n",
              "      <td>2525</td>\n",
              "      <td>mp9851</td>\n",
              "      <td>one plus 1</td>\n",
              "      <td>7.6</td>\n",
              "      <td>2425</td>\n",
              "      <td>one plus 2</td>\n",
              "    </tr>\n",
              "    <tr>\n",
              "      <th>10</th>\n",
              "      <td>p9851</td>\n",
              "      <td>one plus 2</td>\n",
              "      <td>8.6</td>\n",
              "      <td>2525</td>\n",
              "      <td>mp4218</td>\n",
              "      <td>one plus 2x</td>\n",
              "      <td>7.5</td>\n",
              "      <td>1221</td>\n",
              "      <td>one plus 2</td>\n",
              "    </tr>\n",
              "    <tr>\n",
              "      <th>11</th>\n",
              "      <td>p3240</td>\n",
              "      <td>real me max pro</td>\n",
              "      <td>6.3</td>\n",
              "      <td>6321</td>\n",
              "      <td>mp3240</td>\n",
              "      <td>real me max pro</td>\n",
              "      <td>5.3</td>\n",
              "      <td>6221</td>\n",
              "      <td>real me max pro</td>\n",
              "    </tr>\n",
              "    <tr>\n",
              "      <th>12</th>\n",
              "      <td>p8521</td>\n",
              "      <td>real me max 2.2</td>\n",
              "      <td>6.1</td>\n",
              "      <td>962</td>\n",
              "      <td>mp8521</td>\n",
              "      <td>real me max 2.2</td>\n",
              "      <td>5.1</td>\n",
              "      <td>862</td>\n",
              "      <td>real me max 2.2</td>\n",
              "    </tr>\n",
              "    <tr>\n",
              "      <th>13</th>\n",
              "      <td>p3621</td>\n",
              "      <td>one plus x pro</td>\n",
              "      <td>9.2</td>\n",
              "      <td>3214</td>\n",
              "      <td>mp3621</td>\n",
              "      <td>one plus x pro</td>\n",
              "      <td>8.2</td>\n",
              "      <td>3114</td>\n",
              "      <td>one plus x pro</td>\n",
              "    </tr>\n",
              "    <tr>\n",
              "      <th>14</th>\n",
              "      <td>p2212</td>\n",
              "      <td>nokia1221</td>\n",
              "      <td>7.5</td>\n",
              "      <td>1010</td>\n",
              "      <td>mp2212</td>\n",
              "      <td>nokia1221</td>\n",
              "      <td>6.5</td>\n",
              "      <td>910</td>\n",
              "      <td>nokia1221</td>\n",
              "    </tr>\n",
              "  </tbody>\n",
              "</table>\n",
              "</div>"
            ],
            "text/plain": [
              "   Product_id_ds1    Product_Name_ds1  Rating_ds1  Review_Count_ds1  \\\n",
              "0           p1254  samsung mobile-g56         8.3              1214   \n",
              "1           p1254  samsung mobile-g56         8.3              1214   \n",
              "2           p1852           vivo-1213         4.2               501   \n",
              "3           p1987  samsung mobile-h56         5.4               623   \n",
              "4           p1365         vivo-v1-pro         8.3              1211   \n",
              "5           p2575           nokia1100         8.4              1235   \n",
              "6           p1152   samsung mobile-a5         7.5              1101   \n",
              "7           p6314         vivo-z1-pro         8.9              2010   \n",
              "8           p4251          lg-pro-max         6.2               965   \n",
              "9           p9851          one plus 2         8.6              2525   \n",
              "10          p9851          one plus 2         8.6              2525   \n",
              "11          p3240     real me max pro         6.3              6321   \n",
              "12          p8521     real me max 2.2         6.1               962   \n",
              "13          p3621      one plus x pro         9.2              3214   \n",
              "14          p2212           nokia1221         7.5              1010   \n",
              "\n",
              "   Product_id_ds2    Product_Name_ds2  Rating_ds2  Reivew_Count_ds2  \\\n",
              "0          mp1254  samsung mobile-j56         7.3              1114   \n",
              "1          mp1682  samsung mobile-v56         5.2               721   \n",
              "2          mp1852           vivo-1213         3.2               401   \n",
              "3          mp1987  samsung mobile-h56         4.4               523   \n",
              "4          mp1365         vivo-v1-pro         7.3              1111   \n",
              "5          mp2575           nokia1100         7.4              1135   \n",
              "6          mp1152   samsung mobile-b5         6.5              1001   \n",
              "7          mp6314         vivo-z1-pro         7.9              1910   \n",
              "8          mp4251          lg-max-pro         5.2               865   \n",
              "9          mp9851          one plus 1         7.6              2425   \n",
              "10         mp4218         one plus 2x         7.5              1221   \n",
              "11         mp3240     real me max pro         5.3              6221   \n",
              "12         mp8521     real me max 2.2         5.1               862   \n",
              "13         mp3621      one plus x pro         8.2              3114   \n",
              "14         mp2212           nokia1221         6.5               910   \n",
              "\n",
              "         Match_Product  \n",
              "0   samsung mobile-g56  \n",
              "1   samsung mobile-g56  \n",
              "2            vivo-1213  \n",
              "3   samsung mobile-h56  \n",
              "4          vivo-v1-pro  \n",
              "5            nokia1100  \n",
              "6    samsung mobile-a5  \n",
              "7          vivo-z1-pro  \n",
              "8           lg-pro-max  \n",
              "9           one plus 2  \n",
              "10          one plus 2  \n",
              "11     real me max pro  \n",
              "12     real me max 2.2  \n",
              "13      one plus x pro  \n",
              "14           nokia1221  "
            ]
          },
          "execution_count": 61,
          "metadata": {},
          "output_type": "execute_result"
        }
      ],
      "source": [
        "merged_df"
      ]
    },
    {
      "cell_type": "code",
      "execution_count": 62,
      "metadata": {
        "id": "UicqXgiZzN59"
      },
      "outputs": [
        {
          "data": {
            "text/plain": [
              "Index(['Product_id_ds1', 'Product_Name_ds1', 'Rating_ds1', 'Review_Count_ds1',\n",
              "       'Product_id_ds2', 'Product_Name_ds2', 'Rating_ds2', 'Reivew_Count_ds2',\n",
              "       'Match_Product'],\n",
              "      dtype='object')"
            ]
          },
          "execution_count": 62,
          "metadata": {},
          "output_type": "execute_result"
        }
      ],
      "source": [
        "merged_df.columns"
      ]
    },
    {
      "cell_type": "code",
      "execution_count": 63,
      "metadata": {
        "id": "HHl0xUfTzdm1"
      },
      "outputs": [],
      "source": [
        "x=merged_df['Review_Count_ds1']+merged_df['Reivew_Count_ds2']"
      ]
    },
    {
      "cell_type": "code",
      "execution_count": 67,
      "metadata": {},
      "outputs": [],
      "source": [
        "merged_df['Combined_Rating']= (merged_df['Rating_ds1']*merged_df['Review_Count_ds1']+merged_df['Rating_ds2']*merged_df['Reivew_Count_ds2'])/x"
      ]
    },
    {
      "cell_type": "code",
      "execution_count": 68,
      "metadata": {
        "id": "ynfA0FKgAftg"
      },
      "outputs": [],
      "source": [
        "merged_df['Recomendaation_Score']=0.7*merged_df['Combined_Rating']+0.3*merged_df['Rating_ds1']"
      ]
    },
    {
      "cell_type": "code",
      "execution_count": 69,
      "metadata": {
        "id": "_RwkfUnADsQF"
      },
      "outputs": [
        {
          "data": {
            "text/html": [
              "<div>\n",
              "<style scoped>\n",
              "    .dataframe tbody tr th:only-of-type {\n",
              "        vertical-align: middle;\n",
              "    }\n",
              "\n",
              "    .dataframe tbody tr th {\n",
              "        vertical-align: top;\n",
              "    }\n",
              "\n",
              "    .dataframe thead th {\n",
              "        text-align: right;\n",
              "    }\n",
              "</style>\n",
              "<table border=\"1\" class=\"dataframe\">\n",
              "  <thead>\n",
              "    <tr style=\"text-align: right;\">\n",
              "      <th></th>\n",
              "      <th>Product_id_ds1</th>\n",
              "      <th>Product_Name_ds1</th>\n",
              "      <th>Rating_ds1</th>\n",
              "      <th>Review_Count_ds1</th>\n",
              "      <th>Product_id_ds2</th>\n",
              "      <th>Product_Name_ds2</th>\n",
              "      <th>Rating_ds2</th>\n",
              "      <th>Reivew_Count_ds2</th>\n",
              "      <th>Match_Product</th>\n",
              "      <th>Combined_Rating</th>\n",
              "      <th>Recomendaation_Score</th>\n",
              "    </tr>\n",
              "  </thead>\n",
              "  <tbody>\n",
              "    <tr>\n",
              "      <th>0</th>\n",
              "      <td>p1254</td>\n",
              "      <td>samsung mobile-g56</td>\n",
              "      <td>8.3</td>\n",
              "      <td>1214</td>\n",
              "      <td>mp1254</td>\n",
              "      <td>samsung mobile-j56</td>\n",
              "      <td>7.3</td>\n",
              "      <td>1114</td>\n",
              "      <td>samsung mobile-g56</td>\n",
              "      <td>7.821478</td>\n",
              "      <td>7.965034</td>\n",
              "    </tr>\n",
              "    <tr>\n",
              "      <th>1</th>\n",
              "      <td>p1254</td>\n",
              "      <td>samsung mobile-g56</td>\n",
              "      <td>8.3</td>\n",
              "      <td>1214</td>\n",
              "      <td>mp1682</td>\n",
              "      <td>samsung mobile-v56</td>\n",
              "      <td>5.2</td>\n",
              "      <td>721</td>\n",
              "      <td>samsung mobile-g56</td>\n",
              "      <td>7.144910</td>\n",
              "      <td>7.491437</td>\n",
              "    </tr>\n",
              "    <tr>\n",
              "      <th>2</th>\n",
              "      <td>p1852</td>\n",
              "      <td>vivo-1213</td>\n",
              "      <td>4.2</td>\n",
              "      <td>501</td>\n",
              "      <td>mp1852</td>\n",
              "      <td>vivo-1213</td>\n",
              "      <td>3.2</td>\n",
              "      <td>401</td>\n",
              "      <td>vivo-1213</td>\n",
              "      <td>3.755432</td>\n",
              "      <td>3.888803</td>\n",
              "    </tr>\n",
              "    <tr>\n",
              "      <th>3</th>\n",
              "      <td>p1987</td>\n",
              "      <td>samsung mobile-h56</td>\n",
              "      <td>5.4</td>\n",
              "      <td>623</td>\n",
              "      <td>mp1987</td>\n",
              "      <td>samsung mobile-h56</td>\n",
              "      <td>4.4</td>\n",
              "      <td>523</td>\n",
              "      <td>samsung mobile-h56</td>\n",
              "      <td>4.943630</td>\n",
              "      <td>5.080541</td>\n",
              "    </tr>\n",
              "    <tr>\n",
              "      <th>4</th>\n",
              "      <td>p1365</td>\n",
              "      <td>vivo-v1-pro</td>\n",
              "      <td>8.3</td>\n",
              "      <td>1211</td>\n",
              "      <td>mp1365</td>\n",
              "      <td>vivo-v1-pro</td>\n",
              "      <td>7.3</td>\n",
              "      <td>1111</td>\n",
              "      <td>vivo-v1-pro</td>\n",
              "      <td>7.821533</td>\n",
              "      <td>7.965073</td>\n",
              "    </tr>\n",
              "  </tbody>\n",
              "</table>\n",
              "</div>"
            ],
            "text/plain": [
              "  Product_id_ds1    Product_Name_ds1  Rating_ds1  Review_Count_ds1  \\\n",
              "0          p1254  samsung mobile-g56         8.3              1214   \n",
              "1          p1254  samsung mobile-g56         8.3              1214   \n",
              "2          p1852           vivo-1213         4.2               501   \n",
              "3          p1987  samsung mobile-h56         5.4               623   \n",
              "4          p1365         vivo-v1-pro         8.3              1211   \n",
              "\n",
              "  Product_id_ds2    Product_Name_ds2  Rating_ds2  Reivew_Count_ds2  \\\n",
              "0         mp1254  samsung mobile-j56         7.3              1114   \n",
              "1         mp1682  samsung mobile-v56         5.2               721   \n",
              "2         mp1852           vivo-1213         3.2               401   \n",
              "3         mp1987  samsung mobile-h56         4.4               523   \n",
              "4         mp1365         vivo-v1-pro         7.3              1111   \n",
              "\n",
              "        Match_Product  Combined_Rating  Recomendaation_Score  \n",
              "0  samsung mobile-g56         7.821478              7.965034  \n",
              "1  samsung mobile-g56         7.144910              7.491437  \n",
              "2           vivo-1213         3.755432              3.888803  \n",
              "3  samsung mobile-h56         4.943630              5.080541  \n",
              "4         vivo-v1-pro         7.821533              7.965073  "
            ]
          },
          "execution_count": 69,
          "metadata": {},
          "output_type": "execute_result"
        }
      ],
      "source": [
        "merged_df.head()"
      ]
    },
    {
      "cell_type": "code",
      "execution_count": 71,
      "metadata": {
        "id": "ficgFsO3DzSf"
      },
      "outputs": [],
      "source": [
        "best_products = merged_df.sort_values(by='Recomendaation_Score',ascending=False)"
      ]
    },
    {
      "cell_type": "code",
      "execution_count": 73,
      "metadata": {
        "id": "AjVZMg37EgAG"
      },
      "outputs": [
        {
          "data": {
            "text/plain": [
              "Index(['Product_id_ds1', 'Product_Name_ds1', 'Rating_ds1', 'Review_Count_ds1',\n",
              "       'Product_id_ds2', 'Product_Name_ds2', 'Rating_ds2', 'Reivew_Count_ds2',\n",
              "       'Match_Product', 'Combined_Rating', 'Recomendaation_Score'],\n",
              "      dtype='object')"
            ]
          },
          "execution_count": 73,
          "metadata": {},
          "output_type": "execute_result"
        }
      ],
      "source": [
        "best_products.columns"
      ]
    },
    {
      "cell_type": "code",
      "execution_count": 74,
      "metadata": {
        "id": "8hiQgaLtF3Rd"
      },
      "outputs": [
        {
          "name": "stdout",
          "output_type": "stream",
          "text": [
            "         Match_Product  Combined_Rating  Recomendaation_Score\n",
            "13      one plus x pro         8.707901              8.855531\n",
            "7          vivo-z1-pro         8.412755              8.558929\n",
            "10          one plus 2         8.241458              8.349020\n",
            "9           one plus 2         8.110101              8.257071\n",
            "5            nokia1100         7.921097              8.064768\n",
            "4          vivo-v1-pro         7.821533              7.965073\n",
            "0   samsung mobile-g56         7.821478              7.965034\n",
            "1   samsung mobile-g56         7.144910              7.491437\n",
            "14           nokia1221         7.026042              7.168229\n",
            "6    samsung mobile-a5         7.023787              7.166651\n",
            "11     real me max pro         5.803987              5.952791\n",
            "8           lg-pro-max         5.727322              5.869126\n",
            "12     real me max 2.2         5.627412              5.769189\n",
            "3   samsung mobile-h56         4.943630              5.080541\n",
            "2            vivo-1213         3.755432              3.888803\n"
          ]
        }
      ],
      "source": [
        "print(best_products[['Match_Product','Combined_Rating','Recomendaation_Score']])"
      ]
    },
    {
      "cell_type": "code",
      "execution_count": 75,
      "metadata": {
        "id": "3XrKsS1zFeTJ"
      },
      "outputs": [],
      "source": [
        "best_products[['Match_Product','Combined_Rating','Recomendaation_Score']].to_csv('best_products.csv')"
      ]
    },
    {
      "cell_type": "code",
      "execution_count": 78,
      "metadata": {
        "id": "MmEKitpTFmfW"
      },
      "outputs": [
        {
          "data": {
            "text/html": [
              "<div>\n",
              "<style scoped>\n",
              "    .dataframe tbody tr th:only-of-type {\n",
              "        vertical-align: middle;\n",
              "    }\n",
              "\n",
              "    .dataframe tbody tr th {\n",
              "        vertical-align: top;\n",
              "    }\n",
              "\n",
              "    .dataframe thead th {\n",
              "        text-align: right;\n",
              "    }\n",
              "</style>\n",
              "<table border=\"1\" class=\"dataframe\">\n",
              "  <thead>\n",
              "    <tr style=\"text-align: right;\">\n",
              "      <th></th>\n",
              "      <th>Unnamed: 0</th>\n",
              "      <th>Match_Product</th>\n",
              "      <th>Combined_Rating</th>\n",
              "      <th>Recomendaation_Score</th>\n",
              "    </tr>\n",
              "  </thead>\n",
              "  <tbody>\n",
              "    <tr>\n",
              "      <th>0</th>\n",
              "      <td>13</td>\n",
              "      <td>one plus x pro</td>\n",
              "      <td>8.707901</td>\n",
              "      <td>8.855531</td>\n",
              "    </tr>\n",
              "    <tr>\n",
              "      <th>1</th>\n",
              "      <td>7</td>\n",
              "      <td>vivo-z1-pro</td>\n",
              "      <td>8.412755</td>\n",
              "      <td>8.558929</td>\n",
              "    </tr>\n",
              "    <tr>\n",
              "      <th>2</th>\n",
              "      <td>10</td>\n",
              "      <td>one plus 2</td>\n",
              "      <td>8.241458</td>\n",
              "      <td>8.349020</td>\n",
              "    </tr>\n",
              "    <tr>\n",
              "      <th>3</th>\n",
              "      <td>9</td>\n",
              "      <td>one plus 2</td>\n",
              "      <td>8.110101</td>\n",
              "      <td>8.257071</td>\n",
              "    </tr>\n",
              "    <tr>\n",
              "      <th>4</th>\n",
              "      <td>5</td>\n",
              "      <td>nokia1100</td>\n",
              "      <td>7.921097</td>\n",
              "      <td>8.064768</td>\n",
              "    </tr>\n",
              "  </tbody>\n",
              "</table>\n",
              "</div>"
            ],
            "text/plain": [
              "   Unnamed: 0   Match_Product  Combined_Rating  Recomendaation_Score\n",
              "0          13  one plus x pro         8.707901              8.855531\n",
              "1           7     vivo-z1-pro         8.412755              8.558929\n",
              "2          10      one plus 2         8.241458              8.349020\n",
              "3           9      one plus 2         8.110101              8.257071\n",
              "4           5       nokia1100         7.921097              8.064768"
            ]
          },
          "execution_count": 78,
          "metadata": {},
          "output_type": "execute_result"
        }
      ],
      "source": [
        "rp=pd.read_csv('best_products.csv')\n",
        "rp.head()"
      ]
    }
  ],
  "metadata": {
    "colab": {
      "provenance": []
    },
    "kernelspec": {
      "display_name": "Python 3",
      "name": "python3"
    },
    "language_info": {
      "codemirror_mode": {
        "name": "ipython",
        "version": 3
      },
      "file_extension": ".py",
      "mimetype": "text/x-python",
      "name": "python",
      "nbconvert_exporter": "python",
      "pygments_lexer": "ipython3",
      "version": "3.11.5"
    }
  },
  "nbformat": 4,
  "nbformat_minor": 0
}
